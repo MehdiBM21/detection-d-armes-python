{
 "cells": [
  {
   "cell_type": "markdown",
   "metadata": {},
   "source": [
    "# 1. Importer les packages a utiliser"
   ]
  },
  {
   "cell_type": "code",
   "execution_count": 25,
   "metadata": {},
   "outputs": [
    {
     "name": "stdout",
     "output_type": "stream",
     "text": [
      "Requirement already satisfied: opencv-python in c:\\users\\dell\\tensorflow object detection\\tfodcourse\\123\\lib\\site-packages (4.7.0.72)\n",
      "Requirement already satisfied: numpy>=1.21.2 in c:\\users\\dell\\tensorflow object detection\\tfodcourse\\123\\lib\\site-packages (from opencv-python) (1.23.5)\n"
     ]
    }
   ],
   "source": [
    "#installer opencv\n",
    "!pip install opencv-python"
   ]
  },
  {
   "cell_type": "code",
   "execution_count": 1,
   "metadata": {},
   "outputs": [],
   "source": [
    "# Importer opencv\n",
    "import cv2 \n",
    "\n",
    "# Importer Operating System\n",
    "import os\n"
   ]
  },
  {
   "cell_type": "markdown",
   "metadata": {},
   "source": [
    "# 2. Definir la classe Gun pour la labelisation"
   ]
  },
  {
   "cell_type": "code",
   "execution_count": 4,
   "metadata": {},
   "outputs": [],
   "source": [
    "labels = ['gun']\n",
    "number_imgs = 100\n",
    "#on utilisera 20 images au debut qu'on augmentera (generer de ces 20 images d'autres images en changeant la luminosité, le contraste, la position...) ensuite pour l'etape d'entrainement"
   ]
  },
  {
   "cell_type": "markdown",
   "metadata": {},
   "source": [
    "# 3. Créer les fichiers à utiliser le long du projet"
   ]
  },
  {
   "cell_type": "code",
   "execution_count": 2,
   "metadata": {},
   "outputs": [],
   "source": [
    "IMAGES_PATH = os.path.join('Tensorflow', 'workspace', 'images', 'collectedimages')\n",
    "#le chemin où on mettera les images"
   ]
  },
  {
   "cell_type": "code",
   "execution_count": 5,
   "metadata": {},
   "outputs": [],
   "source": [
    "#ce script crée les fichiers où on va stocker les images avec mkdir\n",
    "if not os.path.exists(IMAGES_PATH):\n",
    "    !mkdir {IMAGES_PATH}\n",
    "for label in labels:#là on crée le fichier gun où on va mettre les images\n",
    "    path = os.path.join(IMAGES_PATH, label)\n",
    "    if not os.path.exists(path):\n",
    "        !mkdir {path}"
   ]
  },
  {
   "cell_type": "markdown",
   "metadata": {},
   "source": [
    "# 4. Renommer et mettre les images dans leurs dossiers"
   ]
  },
  {
   "cell_type": "code",
   "execution_count": 1,
   "metadata": {},
   "outputs": [],
   "source": [
    "#ce script renomme les images qu'on a mis dans le fichier sous la forme: gun.(id aleatoire).jpg\n",
    "import os\n",
    "import random\n",
    "import string\n",
    "\n",
    "# Set the path to the folder containing the images\n",
    "folder_path = os.path.join('Tensorflow', 'workspace', 'images', 'a')\n",
    "\n",
    "# Get a list of all the files in the folder\n",
    "file_list = os.listdir(folder_path)\n",
    "\n",
    "# Loop through each file in the folder\n",
    "for file_name in file_list:\n",
    "    # Check if the file is an image (i.e., ends with .jpg, .jpeg, or .png)\n",
    "    if file_name.endswith(('.jpg', '.jpeg', '.png')):\n",
    "        # Generate a random ID string\n",
    "        random_id = ''.join(random.choices(string.ascii_lowercase + string.digits, k=8))\n",
    "        # Create the new file name\n",
    "        new_file_name = f\"gun.{random_id}.jpg\"\n",
    "        # Construct the full paths to the old and new files\n",
    "        old_file_path = os.path.join(folder_path, file_name)\n",
    "        new_file_path = os.path.join(folder_path, new_file_name)\n",
    "        # Rename the file\n",
    "        os.rename(old_file_path, new_file_path)\n"
   ]
  },
  {
   "cell_type": "markdown",
   "metadata": {},
   "source": [
    "# 5. Labelisation des images"
   ]
  },
  {
   "cell_type": "code",
   "execution_count": 5,
   "metadata": {},
   "outputs": [
    {
     "name": "stdout",
     "output_type": "stream",
     "text": [
      "Requirement already satisfied: pyqt5 in c:\\users\\dell\\tensorflow object detection\\tfodcourse\\tfod\\lib\\site-packages (5.15.9)\n",
      "Requirement already satisfied: lxml in c:\\users\\dell\\tensorflow object detection\\tfodcourse\\tfod\\lib\\site-packages (4.9.2)\n",
      "Requirement already satisfied: PyQt5-Qt5>=5.15.2 in c:\\users\\dell\\tensorflow object detection\\tfodcourse\\tfod\\lib\\site-packages (from pyqt5) (5.15.2)\n",
      "Requirement already satisfied: PyQt5-sip<13,>=12.11 in c:\\users\\dell\\tensorflow object detection\\tfodcourse\\tfod\\lib\\site-packages (from pyqt5) (12.12.0)\n"
     ]
    },
    {
     "name": "stderr",
     "output_type": "stream",
     "text": [
      "WARNING: Ignoring invalid distribution -rotobuf (c:\\users\\dell\\tensorflow object detection\\tfodcourse\\tfod\\lib\\site-packages)\n",
      "WARNING: Ignoring invalid distribution -rotobuf (c:\\users\\dell\\tensorflow object detection\\tfodcourse\\tfod\\lib\\site-packages)\n",
      "WARNING: Ignoring invalid distribution -rotobuf (c:\\users\\dell\\tensorflow object detection\\tfodcourse\\tfod\\lib\\site-packages)\n",
      "WARNING: Ignoring invalid distribution -rotobuf (c:\\users\\dell\\tensorflow object detection\\tfodcourse\\tfod\\lib\\site-packages)\n",
      "WARNING: Ignoring invalid distribution -rotobuf (c:\\users\\dell\\tensorflow object detection\\tfodcourse\\tfod\\lib\\site-packages)\n",
      "WARNING: Ignoring invalid distribution -rotobuf (c:\\users\\dell\\tensorflow object detection\\tfodcourse\\tfod\\lib\\site-packages)\n",
      "\n",
      "[notice] A new release of pip is available: 23.0.1 -> 23.1.2\n",
      "[notice] To update, run: python.exe -m pip install --upgrade pip\n"
     ]
    }
   ],
   "source": [
    "#installation des packages necessaires pour le logiciel pour la labelisation\n",
    "!pip install --upgrade pyqt5 lxml"
   ]
  },
  {
   "cell_type": "code",
   "execution_count": 7,
   "metadata": {},
   "outputs": [],
   "source": [
    "#le chemin où on va telecharger le logiciel\n",
    "LABELIMG_PATH = os.path.join('Tensorflow', 'labelimg')"
   ]
  },
  {
   "cell_type": "code",
   "execution_count": 8,
   "metadata": {},
   "outputs": [],
   "source": [
    "#telechargement du logiciel depuis github\n",
    "if not os.path.exists(LABELIMG_PATH):\n",
    "    !mkdir {LABELIMG_PATH}\n",
    "    !git clone https://github.com/tzutalin/labelImg {LABELIMG_PATH}"
   ]
  },
  {
   "cell_type": "code",
   "execution_count": 9,
   "metadata": {},
   "outputs": [],
   "source": [
    "#ce script est recommandé par le createur du logiciel\n",
    "if os.name =='nt':#windows\n",
    "    !cd {LABELIMG_PATH} && pyrcc5 -o libs/resources.py resources.qrc"
   ]
  },
  {
   "cell_type": "code",
   "execution_count": 12,
   "metadata": {},
   "outputs": [
    {
     "name": "stdout",
     "output_type": "stream",
     "text": [
      "Image:C:\\Users\\DELL\\TensorFlow object detection\\TFODCourse\\Tensorflow\\workspace\\images\\collectedimages\\gun\\gun.0mont1to.jpg -> Annotation:C:/Users/DELL/TensorFlow object detection/TFODCourse/Tensorflow/workspace/images/collectedimages/gun\\gun.0mont1to.xml\n",
      "Cancel creation.\n",
      "Image:C:\\Users\\DELL\\TensorFlow object detection\\TFODCourse\\Tensorflow\\workspace\\images\\collectedimages\\gun\\gun.0sb22ib8.jpg -> Annotation:C:/Users/DELL/TensorFlow object detection/TFODCourse/Tensorflow/workspace/images/collectedimages/gun\\gun.0sb22ib8.xml\n",
      "Image:C:\\Users\\DELL\\TensorFlow object detection\\TFODCourse\\Tensorflow\\workspace\\images\\collectedimages\\gun\\gun.00tihiq3.jpg -> Annotation:C:/Users/DELL/TensorFlow object detection/TFODCourse/Tensorflow/workspace/images/collectedimages/gun\\gun.00tihiq3.xml\n",
      "Image:C:\\Users\\DELL\\TensorFlow object detection\\TFODCourse\\Tensorflow\\workspace\\images\\collectedimages\\gun\\gun.0zcy88j8.jpg -> Annotation:C:/Users/DELL/TensorFlow object detection/TFODCourse/Tensorflow/workspace/images/collectedimages/gun\\gun.0zcy88j8.xml\n",
      "Image:C:\\Users\\DELL\\TensorFlow object detection\\TFODCourse\\Tensorflow\\workspace\\images\\collectedimages\\gun\\gun.1jcrxd0r.jpg -> Annotation:C:/Users/DELL/TensorFlow object detection/TFODCourse/Tensorflow/workspace/images/collectedimages/gun\\gun.1jcrxd0r.xml\n",
      "Image:C:\\Users\\DELL\\TensorFlow object detection\\TFODCourse\\Tensorflow\\workspace\\images\\collectedimages\\gun\\gun.2fdu8zla.jpg -> Annotation:C:/Users/DELL/TensorFlow object detection/TFODCourse/Tensorflow/workspace/images/collectedimages/gun\\gun.2fdu8zla.xml\n",
      "Image:C:\\Users\\DELL\\TensorFlow object detection\\TFODCourse\\Tensorflow\\workspace\\images\\collectedimages\\gun\\gun.3g562z16.jpg -> Annotation:C:/Users/DELL/TensorFlow object detection/TFODCourse/Tensorflow/workspace/images/collectedimages/gun\\gun.3g562z16.xml\n",
      "Image:C:\\Users\\DELL\\TensorFlow object detection\\TFODCourse\\Tensorflow\\workspace\\images\\collectedimages\\gun\\gun.5aassf3k.jpg -> Annotation:C:/Users/DELL/TensorFlow object detection/TFODCourse/Tensorflow/workspace/images/collectedimages/gun\\gun.5aassf3k.xml\n",
      "Image:C:\\Users\\DELL\\TensorFlow object detection\\TFODCourse\\Tensorflow\\workspace\\images\\collectedimages\\gun\\gun.6v4wxm2d.jpg -> Annotation:C:/Users/DELL/TensorFlow object detection/TFODCourse/Tensorflow/workspace/images/collectedimages/gun\\gun.6v4wxm2d.xml\n",
      "Image:C:\\Users\\DELL\\TensorFlow object detection\\TFODCourse\\Tensorflow\\workspace\\images\\collectedimages\\gun\\gun.7letr96i.jpg -> Annotation:C:/Users/DELL/TensorFlow object detection/TFODCourse/Tensorflow/workspace/images/collectedimages/gun\\gun.7letr96i.xml\n",
      "Image:C:\\Users\\DELL\\TensorFlow object detection\\TFODCourse\\Tensorflow\\workspace\\images\\collectedimages\\gun\\gun.7uv7u3ge.jpg -> Annotation:C:/Users/DELL/TensorFlow object detection/TFODCourse/Tensorflow/workspace/images/collectedimages/gun\\gun.7uv7u3ge.xml\n",
      "Image:C:\\Users\\DELL\\TensorFlow object detection\\TFODCourse\\Tensorflow\\workspace\\images\\collectedimages\\gun\\gun.8dnpwhxr.jpg -> Annotation:C:/Users/DELL/TensorFlow object detection/TFODCourse/Tensorflow/workspace/images/collectedimages/gun\\gun.8dnpwhxr.xml\n",
      "Image:C:\\Users\\DELL\\TensorFlow object detection\\TFODCourse\\Tensorflow\\workspace\\images\\collectedimages\\gun\\gun.8e78y5d5.jpg -> Annotation:C:/Users/DELL/TensorFlow object detection/TFODCourse/Tensorflow/workspace/images/collectedimages/gun\\gun.8e78y5d5.xml\n",
      "Image:C:\\Users\\DELL\\TensorFlow object detection\\TFODCourse\\Tensorflow\\workspace\\images\\collectedimages\\gun\\gun.8go6je4q.jpg -> Annotation:C:/Users/DELL/TensorFlow object detection/TFODCourse/Tensorflow/workspace/images/collectedimages/gun\\gun.8go6je4q.xml\n",
      "Image:C:\\Users\\DELL\\TensorFlow object detection\\TFODCourse\\Tensorflow\\workspace\\images\\collectedimages\\gun\\gun.8slkp0cd.jpg -> Annotation:C:/Users/DELL/TensorFlow object detection/TFODCourse/Tensorflow/workspace/images/collectedimages/gun\\gun.8slkp0cd.xml\n",
      "Image:C:\\Users\\DELL\\TensorFlow object detection\\TFODCourse\\Tensorflow\\workspace\\images\\collectedimages\\gun\\gun.8y9zdxkf.jpg -> Annotation:C:/Users/DELL/TensorFlow object detection/TFODCourse/Tensorflow/workspace/images/collectedimages/gun\\gun.8y9zdxkf.xml\n",
      "Image:C:\\Users\\DELL\\TensorFlow object detection\\TFODCourse\\Tensorflow\\workspace\\images\\collectedimages\\gun\\gun.8yi2967q.jpg -> Annotation:C:/Users/DELL/TensorFlow object detection/TFODCourse/Tensorflow/workspace/images/collectedimages/gun\\gun.8yi2967q.xml\n",
      "Image:C:\\Users\\DELL\\TensorFlow object detection\\TFODCourse\\Tensorflow\\workspace\\images\\collectedimages\\gun\\gun.9u9bqqyq.jpg -> Annotation:C:/Users/DELL/TensorFlow object detection/TFODCourse/Tensorflow/workspace/images/collectedimages/gun\\gun.9u9bqqyq.xml\n",
      "Image:C:\\Users\\DELL\\TensorFlow object detection\\TFODCourse\\Tensorflow\\workspace\\images\\collectedimages\\gun\\gun.09yc12v9.jpg -> Annotation:C:/Users/DELL/TensorFlow object detection/TFODCourse/Tensorflow/workspace/images/collectedimages/gun\\gun.09yc12v9.xml\n",
      "Image:C:\\Users\\DELL\\TensorFlow object detection\\TFODCourse\\Tensorflow\\workspace\\images\\collectedimages\\gun\\gun.16wxupq5.jpg -> Annotation:C:/Users/DELL/TensorFlow object detection/TFODCourse/Tensorflow/workspace/images/collectedimages/gun\\gun.16wxupq5.xml\n",
      "Image:C:\\Users\\DELL\\TensorFlow object detection\\TFODCourse\\Tensorflow\\workspace\\images\\collectedimages\\gun\\gun.80cwokq7.jpg -> Annotation:C:/Users/DELL/TensorFlow object detection/TFODCourse/Tensorflow/workspace/images/collectedimages/gun\\gun.80cwokq7.xml\n",
      "Image:C:\\Users\\DELL\\TensorFlow object detection\\TFODCourse\\Tensorflow\\workspace\\images\\collectedimages\\gun\\gun.83x0tvi8.jpg -> Annotation:C:/Users/DELL/TensorFlow object detection/TFODCourse/Tensorflow/workspace/images/collectedimages/gun\\gun.83x0tvi8.xml\n",
      "Image:C:\\Users\\DELL\\TensorFlow object detection\\TFODCourse\\Tensorflow\\workspace\\images\\collectedimages\\gun\\gun.86ax16wy.jpg -> Annotation:C:/Users/DELL/TensorFlow object detection/TFODCourse/Tensorflow/workspace/images/collectedimages/gun\\gun.86ax16wy.xml\n",
      "Image:C:\\Users\\DELL\\TensorFlow object detection\\TFODCourse\\Tensorflow\\workspace\\images\\collectedimages\\gun\\gun.99eijb0y.jpg -> Annotation:C:/Users/DELL/TensorFlow object detection/TFODCourse/Tensorflow/workspace/images/collectedimages/gun\\gun.99eijb0y.xml\n",
      "Image:C:\\Users\\DELL\\TensorFlow object detection\\TFODCourse\\Tensorflow\\workspace\\images\\collectedimages\\gun\\gun.231j0h2v.jpg -> Annotation:C:/Users/DELL/TensorFlow object detection/TFODCourse/Tensorflow/workspace/images/collectedimages/gun\\gun.231j0h2v.xml\n",
      "Image:C:\\Users\\DELL\\TensorFlow object detection\\TFODCourse\\Tensorflow\\workspace\\images\\collectedimages\\gun\\gun.351yms0f.jpg -> Annotation:C:/Users/DELL/TensorFlow object detection/TFODCourse/Tensorflow/workspace/images/collectedimages/gun\\gun.351yms0f.xml\n",
      "Image:C:\\Users\\DELL\\TensorFlow object detection\\TFODCourse\\Tensorflow\\workspace\\images\\collectedimages\\gun\\gun.3710ryfa.jpg -> Annotation:C:/Users/DELL/TensorFlow object detection/TFODCourse/Tensorflow/workspace/images/collectedimages/gun\\gun.3710ryfa.xml\n",
      "Image:C:\\Users\\DELL\\TensorFlow object detection\\TFODCourse\\Tensorflow\\workspace\\images\\collectedimages\\gun\\gun.a5475z2g.jpg -> Annotation:C:/Users/DELL/TensorFlow object detection/TFODCourse/Tensorflow/workspace/images/collectedimages/gun\\gun.a5475z2g.xml\n",
      "Image:C:\\Users\\DELL\\TensorFlow object detection\\TFODCourse\\Tensorflow\\workspace\\images\\collectedimages\\gun\\gun.akse98fy.jpg -> Annotation:C:/Users/DELL/TensorFlow object detection/TFODCourse/Tensorflow/workspace/images/collectedimages/gun\\gun.akse98fy.xml\n",
      "Image:C:\\Users\\DELL\\TensorFlow object detection\\TFODCourse\\Tensorflow\\workspace\\images\\collectedimages\\gun\\gun.alcnv91i.jpg -> Annotation:C:/Users/DELL/TensorFlow object detection/TFODCourse/Tensorflow/workspace/images/collectedimages/gun\\gun.alcnv91i.xml\n",
      "Image:C:\\Users\\DELL\\TensorFlow object detection\\TFODCourse\\Tensorflow\\workspace\\images\\collectedimages\\gun\\gun.aonll1j7.jpg -> Annotation:C:/Users/DELL/TensorFlow object detection/TFODCourse/Tensorflow/workspace/images/collectedimages/gun\\gun.aonll1j7.xml\n",
      "Image:C:\\Users\\DELL\\TensorFlow object detection\\TFODCourse\\Tensorflow\\workspace\\images\\collectedimages\\gun\\gun.ar6pa6uy.jpg -> Annotation:C:/Users/DELL/TensorFlow object detection/TFODCourse/Tensorflow/workspace/images/collectedimages/gun\\gun.ar6pa6uy.xml\n",
      "Image:C:\\Users\\DELL\\TensorFlow object detection\\TFODCourse\\Tensorflow\\workspace\\images\\collectedimages\\gun\\gun.arosa0dg.jpg -> Annotation:C:/Users/DELL/TensorFlow object detection/TFODCourse/Tensorflow/workspace/images/collectedimages/gun\\gun.arosa0dg.xml\n",
      "Image:C:\\Users\\DELL\\TensorFlow object detection\\TFODCourse\\Tensorflow\\workspace\\images\\collectedimages\\gun\\gun.b1qrig9a.jpg -> Annotation:C:/Users/DELL/TensorFlow object detection/TFODCourse/Tensorflow/workspace/images/collectedimages/gun\\gun.b1qrig9a.xml\n",
      "Image:C:\\Users\\DELL\\TensorFlow object detection\\TFODCourse\\Tensorflow\\workspace\\images\\collectedimages\\gun\\gun.b7i8718k.jpg -> Annotation:C:/Users/DELL/TensorFlow object detection/TFODCourse/Tensorflow/workspace/images/collectedimages/gun\\gun.b7i8718k.xml\n",
      "Image:C:\\Users\\DELL\\TensorFlow object detection\\TFODCourse\\Tensorflow\\workspace\\images\\collectedimages\\gun\\gun.bq9rfff8.jpg -> Annotation:C:/Users/DELL/TensorFlow object detection/TFODCourse/Tensorflow/workspace/images/collectedimages/gun\\gun.bq9rfff8.xml\n",
      "Image:C:\\Users\\DELL\\TensorFlow object detection\\TFODCourse\\Tensorflow\\workspace\\images\\collectedimages\\gun\\gun.c6lk18l3.jpg -> Annotation:C:/Users/DELL/TensorFlow object detection/TFODCourse/Tensorflow/workspace/images/collectedimages/gun\\gun.c6lk18l3.xml\n",
      "Image:C:\\Users\\DELL\\TensorFlow object detection\\TFODCourse\\Tensorflow\\workspace\\images\\collectedimages\\gun\\gun.cr2dbfcm.jpg -> Annotation:C:/Users/DELL/TensorFlow object detection/TFODCourse/Tensorflow/workspace/images/collectedimages/gun\\gun.cr2dbfcm.xml\n",
      "Image:C:\\Users\\DELL\\TensorFlow object detection\\TFODCourse\\Tensorflow\\workspace\\images\\collectedimages\\gun\\gun.d67ws6t6.jpg -> Annotation:C:/Users/DELL/TensorFlow object detection/TFODCourse/Tensorflow/workspace/images/collectedimages/gun\\gun.d67ws6t6.xml\n",
      "Image:C:\\Users\\DELL\\TensorFlow object detection\\TFODCourse\\Tensorflow\\workspace\\images\\collectedimages\\gun\\gun.dl6fq5hj.jpg -> Annotation:C:/Users/DELL/TensorFlow object detection/TFODCourse/Tensorflow/workspace/images/collectedimages/gun\\gun.dl6fq5hj.xml\n",
      "Image:C:\\Users\\DELL\\TensorFlow object detection\\TFODCourse\\Tensorflow\\workspace\\images\\collectedimages\\gun\\gun.do23mpu8.jpg -> Annotation:C:/Users/DELL/TensorFlow object detection/TFODCourse/Tensorflow/workspace/images/collectedimages/gun\\gun.do23mpu8.xml\n",
      "Image:C:\\Users\\DELL\\TensorFlow object detection\\TFODCourse\\Tensorflow\\workspace\\images\\collectedimages\\gun\\gun.dv4kwpv9.jpg -> Annotation:C:/Users/DELL/TensorFlow object detection/TFODCourse/Tensorflow/workspace/images/collectedimages/gun\\gun.dv4kwpv9.xml\n",
      "Image:C:\\Users\\DELL\\TensorFlow object detection\\TFODCourse\\Tensorflow\\workspace\\images\\collectedimages\\gun\\gun.edtos9y5.jpg -> Annotation:C:/Users/DELL/TensorFlow object detection/TFODCourse/Tensorflow/workspace/images/collectedimages/gun\\gun.edtos9y5.xml\n",
      "Image:C:\\Users\\DELL\\TensorFlow object detection\\TFODCourse\\Tensorflow\\workspace\\images\\collectedimages\\gun\\gun.f0wuaq8v.jpg -> Annotation:C:/Users/DELL/TensorFlow object detection/TFODCourse/Tensorflow/workspace/images/collectedimages/gun\\gun.f0wuaq8v.xml\n",
      "Image:C:\\Users\\DELL\\TensorFlow object detection\\TFODCourse\\Tensorflow\\workspace\\images\\collectedimages\\gun\\gun.fojh0zln.jpg -> Annotation:C:/Users/DELL/TensorFlow object detection/TFODCourse/Tensorflow/workspace/images/collectedimages/gun\\gun.fojh0zln.xml\n",
      "Image:C:\\Users\\DELL\\TensorFlow object detection\\TFODCourse\\Tensorflow\\workspace\\images\\collectedimages\\gun\\gun.fp2sfa2d.jpg -> Annotation:C:/Users/DELL/TensorFlow object detection/TFODCourse/Tensorflow/workspace/images/collectedimages/gun\\gun.fp2sfa2d.xml\n",
      "Image:C:\\Users\\DELL\\TensorFlow object detection\\TFODCourse\\Tensorflow\\workspace\\images\\collectedimages\\gun\\gun.g9v0p8w2.jpg -> Annotation:C:/Users/DELL/TensorFlow object detection/TFODCourse/Tensorflow/workspace/images/collectedimages/gun\\gun.g9v0p8w2.xml\n",
      "Image:C:\\Users\\DELL\\TensorFlow object detection\\TFODCourse\\Tensorflow\\workspace\\images\\collectedimages\\gun\\gun.gdx6ifxq.jpg -> Annotation:C:/Users/DELL/TensorFlow object detection/TFODCourse/Tensorflow/workspace/images/collectedimages/gun\\gun.gdx6ifxq.xml\n",
      "Image:C:\\Users\\DELL\\TensorFlow object detection\\TFODCourse\\Tensorflow\\workspace\\images\\collectedimages\\gun\\gun.hdfzgh36.jpg -> Annotation:C:/Users/DELL/TensorFlow object detection/TFODCourse/Tensorflow/workspace/images/collectedimages/gun\\gun.hdfzgh36.xml\n",
      "Image:C:\\Users\\DELL\\TensorFlow object detection\\TFODCourse\\Tensorflow\\workspace\\images\\collectedimages\\gun\\gun.hi1awqng.jpg -> Annotation:C:/Users/DELL/TensorFlow object detection/TFODCourse/Tensorflow/workspace/images/collectedimages/gun\\gun.hi1awqng.xml\n",
      "Image:C:\\Users\\DELL\\TensorFlow object detection\\TFODCourse\\Tensorflow\\workspace\\images\\collectedimages\\gun\\gun.ho94s8pr.jpg -> Annotation:C:/Users/DELL/TensorFlow object detection/TFODCourse/Tensorflow/workspace/images/collectedimages/gun\\gun.ho94s8pr.xml\n",
      "Image:C:\\Users\\DELL\\TensorFlow object detection\\TFODCourse\\Tensorflow\\workspace\\images\\collectedimages\\gun\\gun.iklq08cv.jpg -> Annotation:C:/Users/DELL/TensorFlow object detection/TFODCourse/Tensorflow/workspace/images/collectedimages/gun\\gun.iklq08cv.xml\n",
      "Image:C:\\Users\\DELL\\TensorFlow object detection\\TFODCourse\\Tensorflow\\workspace\\images\\collectedimages\\gun\\gun.ipsbjr69.jpg -> Annotation:C:/Users/DELL/TensorFlow object detection/TFODCourse/Tensorflow/workspace/images/collectedimages/gun\\gun.ipsbjr69.xml\n",
      "Image:C:\\Users\\DELL\\TensorFlow object detection\\TFODCourse\\Tensorflow\\workspace\\images\\collectedimages\\gun\\gun.j4ddq8ju.jpg -> Annotation:C:/Users/DELL/TensorFlow object detection/TFODCourse/Tensorflow/workspace/images/collectedimages/gun\\gun.j4ddq8ju.xml\n",
      "Image:C:\\Users\\DELL\\TensorFlow object detection\\TFODCourse\\Tensorflow\\workspace\\images\\collectedimages\\gun\\gun.jf5fsu0w.jpg -> Annotation:C:/Users/DELL/TensorFlow object detection/TFODCourse/Tensorflow/workspace/images/collectedimages/gun\\gun.jf5fsu0w.xml\n",
      "Image:C:\\Users\\DELL\\TensorFlow object detection\\TFODCourse\\Tensorflow\\workspace\\images\\collectedimages\\gun\\gun.jow6y5gq.jpg -> Annotation:C:/Users/DELL/TensorFlow object detection/TFODCourse/Tensorflow/workspace/images/collectedimages/gun\\gun.jow6y5gq.xml\n",
      "Image:C:\\Users\\DELL\\TensorFlow object detection\\TFODCourse\\Tensorflow\\workspace\\images\\collectedimages\\gun\\gun.jyhtqn3x.jpg -> Annotation:C:/Users/DELL/TensorFlow object detection/TFODCourse/Tensorflow/workspace/images/collectedimages/gun\\gun.jyhtqn3x.xml\n",
      "Image:C:\\Users\\DELL\\TensorFlow object detection\\TFODCourse\\Tensorflow\\workspace\\images\\collectedimages\\gun\\gun.jyr8v4cj.jpg -> Annotation:C:/Users/DELL/TensorFlow object detection/TFODCourse/Tensorflow/workspace/images/collectedimages/gun\\gun.jyr8v4cj.xml\n",
      "Image:C:\\Users\\DELL\\TensorFlow object detection\\TFODCourse\\Tensorflow\\workspace\\images\\collectedimages\\gun\\gun.kkpddg3y.jpg -> Annotation:C:/Users/DELL/TensorFlow object detection/TFODCourse/Tensorflow/workspace/images/collectedimages/gun\\gun.kkpddg3y.xml\n",
      "Image:C:\\Users\\DELL\\TensorFlow object detection\\TFODCourse\\Tensorflow\\workspace\\images\\collectedimages\\gun\\gun.ktxbxu02.jpg -> Annotation:C:/Users/DELL/TensorFlow object detection/TFODCourse/Tensorflow/workspace/images/collectedimages/gun\\gun.ktxbxu02.xml\n",
      "Image:C:\\Users\\DELL\\TensorFlow object detection\\TFODCourse\\Tensorflow\\workspace\\images\\collectedimages\\gun\\gun.kui4mdga.jpg -> Annotation:C:/Users/DELL/TensorFlow object detection/TFODCourse/Tensorflow/workspace/images/collectedimages/gun\\gun.kui4mdga.xml\n",
      "Image:C:\\Users\\DELL\\TensorFlow object detection\\TFODCourse\\Tensorflow\\workspace\\images\\collectedimages\\gun\\gun.kuq2qjia.jpg -> Annotation:C:/Users/DELL/TensorFlow object detection/TFODCourse/Tensorflow/workspace/images/collectedimages/gun\\gun.kuq2qjia.xml\n",
      "Image:C:\\Users\\DELL\\TensorFlow object detection\\TFODCourse\\Tensorflow\\workspace\\images\\collectedimages\\gun\\gun.kx87i58l.jpg -> Annotation:C:/Users/DELL/TensorFlow object detection/TFODCourse/Tensorflow/workspace/images/collectedimages/gun\\gun.kx87i58l.xml\n",
      "Image:C:\\Users\\DELL\\TensorFlow object detection\\TFODCourse\\Tensorflow\\workspace\\images\\collectedimages\\gun\\gun.l743og08.jpg -> Annotation:C:/Users/DELL/TensorFlow object detection/TFODCourse/Tensorflow/workspace/images/collectedimages/gun\\gun.l743og08.xml\n",
      "Image:C:\\Users\\DELL\\TensorFlow object detection\\TFODCourse\\Tensorflow\\workspace\\images\\collectedimages\\gun\\gun.lu3raqs3.jpg -> Annotation:C:/Users/DELL/TensorFlow object detection/TFODCourse/Tensorflow/workspace/images/collectedimages/gun\\gun.lu3raqs3.xml\n",
      "Image:C:\\Users\\DELL\\TensorFlow object detection\\TFODCourse\\Tensorflow\\workspace\\images\\collectedimages\\gun\\gun.m1waepz1.jpg -> Annotation:C:/Users/DELL/TensorFlow object detection/TFODCourse/Tensorflow/workspace/images/collectedimages/gun\\gun.m1waepz1.xml\n",
      "Image:C:\\Users\\DELL\\TensorFlow object detection\\TFODCourse\\Tensorflow\\workspace\\images\\collectedimages\\gun\\gun.m4lwf96f.jpg -> Annotation:C:/Users/DELL/TensorFlow object detection/TFODCourse/Tensorflow/workspace/images/collectedimages/gun\\gun.m4lwf96f.xml\n",
      "Image:C:\\Users\\DELL\\TensorFlow object detection\\TFODCourse\\Tensorflow\\workspace\\images\\collectedimages\\gun\\gun.m8o6f7kn.jpg -> Annotation:C:/Users/DELL/TensorFlow object detection/TFODCourse/Tensorflow/workspace/images/collectedimages/gun\\gun.m8o6f7kn.xml\n",
      "Image:C:\\Users\\DELL\\TensorFlow object detection\\TFODCourse\\Tensorflow\\workspace\\images\\collectedimages\\gun\\gun.m226gmkp.jpg -> Annotation:C:/Users/DELL/TensorFlow object detection/TFODCourse/Tensorflow/workspace/images/collectedimages/gun\\gun.m226gmkp.xml\n",
      "Image:C:\\Users\\DELL\\TensorFlow object detection\\TFODCourse\\Tensorflow\\workspace\\images\\collectedimages\\gun\\gun.mef4jcb2.jpg -> Annotation:C:/Users/DELL/TensorFlow object detection/TFODCourse/Tensorflow/workspace/images/collectedimages/gun\\gun.mef4jcb2.xml\n",
      "Image:C:\\Users\\DELL\\TensorFlow object detection\\TFODCourse\\Tensorflow\\workspace\\images\\collectedimages\\gun\\gun.mqaoq3bk.jpg -> Annotation:C:/Users/DELL/TensorFlow object detection/TFODCourse/Tensorflow/workspace/images/collectedimages/gun\\gun.mqaoq3bk.xml\n",
      "Image:C:\\Users\\DELL\\TensorFlow object detection\\TFODCourse\\Tensorflow\\workspace\\images\\collectedimages\\gun\\gun.mqybpa5n.jpg -> Annotation:C:/Users/DELL/TensorFlow object detection/TFODCourse/Tensorflow/workspace/images/collectedimages/gun\\gun.mqybpa5n.xml\n",
      "Image:C:\\Users\\DELL\\TensorFlow object detection\\TFODCourse\\Tensorflow\\workspace\\images\\collectedimages\\gun\\gun.ms9a0q8f.jpg -> Annotation:C:/Users/DELL/TensorFlow object detection/TFODCourse/Tensorflow/workspace/images/collectedimages/gun\\gun.ms9a0q8f.xml\n",
      "Image:C:\\Users\\DELL\\TensorFlow object detection\\TFODCourse\\Tensorflow\\workspace\\images\\collectedimages\\gun\\gun.n6bzns10.jpg -> Annotation:C:/Users/DELL/TensorFlow object detection/TFODCourse/Tensorflow/workspace/images/collectedimages/gun\\gun.n6bzns10.xml\n",
      "Image:C:\\Users\\DELL\\TensorFlow object detection\\TFODCourse\\Tensorflow\\workspace\\images\\collectedimages\\gun\\gun.nsvm8h65.jpg -> Annotation:C:/Users/DELL/TensorFlow object detection/TFODCourse/Tensorflow/workspace/images/collectedimages/gun\\gun.nsvm8h65.xml\n",
      "Image:C:\\Users\\DELL\\TensorFlow object detection\\TFODCourse\\Tensorflow\\workspace\\images\\collectedimages\\gun\\gun.o3ktllq1.jpg -> Annotation:C:/Users/DELL/TensorFlow object detection/TFODCourse/Tensorflow/workspace/images/collectedimages/gun\\gun.o3ktllq1.xml\n",
      "Image:C:\\Users\\DELL\\TensorFlow object detection\\TFODCourse\\Tensorflow\\workspace\\images\\collectedimages\\gun\\gun.oclfhf47.jpg -> Annotation:C:/Users/DELL/TensorFlow object detection/TFODCourse/Tensorflow/workspace/images/collectedimages/gun\\gun.oclfhf47.xml\n",
      "Image:C:\\Users\\DELL\\TensorFlow object detection\\TFODCourse\\Tensorflow\\workspace\\images\\collectedimages\\gun\\gun.oxg6oo6f.jpg -> Annotation:C:/Users/DELL/TensorFlow object detection/TFODCourse/Tensorflow/workspace/images/collectedimages/gun\\gun.oxg6oo6f.xml\n",
      "Image:C:\\Users\\DELL\\TensorFlow object detection\\TFODCourse\\Tensorflow\\workspace\\images\\collectedimages\\gun\\gun.p1rw83ia.jpg -> Annotation:C:/Users/DELL/TensorFlow object detection/TFODCourse/Tensorflow/workspace/images/collectedimages/gun\\gun.p1rw83ia.xml\n",
      "Image:C:\\Users\\DELL\\TensorFlow object detection\\TFODCourse\\Tensorflow\\workspace\\images\\collectedimages\\gun\\gun.pcseppvp.jpg -> Annotation:C:/Users/DELL/TensorFlow object detection/TFODCourse/Tensorflow/workspace/images/collectedimages/gun\\gun.pcseppvp.xml\n",
      "Image:C:\\Users\\DELL\\TensorFlow object detection\\TFODCourse\\Tensorflow\\workspace\\images\\collectedimages\\gun\\gun.ph7yjc06.jpg -> Annotation:C:/Users/DELL/TensorFlow object detection/TFODCourse/Tensorflow/workspace/images/collectedimages/gun\\gun.ph7yjc06.xml\n",
      "Image:C:\\Users\\DELL\\TensorFlow object detection\\TFODCourse\\Tensorflow\\workspace\\images\\collectedimages\\gun\\gun.qtevvnaq.jpg -> Annotation:C:/Users/DELL/TensorFlow object detection/TFODCourse/Tensorflow/workspace/images/collectedimages/gun\\gun.qtevvnaq.xml\n",
      "Image:C:\\Users\\DELL\\TensorFlow object detection\\TFODCourse\\Tensorflow\\workspace\\images\\collectedimages\\gun\\gun.rx22wdfb.jpg -> Annotation:C:/Users/DELL/TensorFlow object detection/TFODCourse/Tensorflow/workspace/images/collectedimages/gun\\gun.rx22wdfb.xml\n",
      "Image:C:\\Users\\DELL\\TensorFlow object detection\\TFODCourse\\Tensorflow\\workspace\\images\\collectedimages\\gun\\gun.s9oip2vl.jpg -> Annotation:C:/Users/DELL/TensorFlow object detection/TFODCourse/Tensorflow/workspace/images/collectedimages/gun\\gun.s9oip2vl.xml\n",
      "Image:C:\\Users\\DELL\\TensorFlow object detection\\TFODCourse\\Tensorflow\\workspace\\images\\collectedimages\\gun\\gun.tfx1qmas.jpg -> Annotation:C:/Users/DELL/TensorFlow object detection/TFODCourse/Tensorflow/workspace/images/collectedimages/gun\\gun.tfx1qmas.xml\n",
      "Image:C:\\Users\\DELL\\TensorFlow object detection\\TFODCourse\\Tensorflow\\workspace\\images\\collectedimages\\gun\\gun.tkm1c3i9.jpg -> Annotation:C:/Users/DELL/TensorFlow object detection/TFODCourse/Tensorflow/workspace/images/collectedimages/gun\\gun.tkm1c3i9.xml\n",
      "Image:C:\\Users\\DELL\\TensorFlow object detection\\TFODCourse\\Tensorflow\\workspace\\images\\collectedimages\\gun\\gun.tzhfjmoh.jpg -> Annotation:C:/Users/DELL/TensorFlow object detection/TFODCourse/Tensorflow/workspace/images/collectedimages/gun\\gun.tzhfjmoh.xml\n",
      "Image:C:\\Users\\DELL\\TensorFlow object detection\\TFODCourse\\Tensorflow\\workspace\\images\\collectedimages\\gun\\gun.vow5d151.jpg -> Annotation:C:/Users/DELL/TensorFlow object detection/TFODCourse/Tensorflow/workspace/images/collectedimages/gun\\gun.vow5d151.xml\n",
      "Image:C:\\Users\\DELL\\TensorFlow object detection\\TFODCourse\\Tensorflow\\workspace\\images\\collectedimages\\gun\\gun.vuw9p9vp.jpg -> Annotation:C:/Users/DELL/TensorFlow object detection/TFODCourse/Tensorflow/workspace/images/collectedimages/gun\\gun.vuw9p9vp.xml\n",
      "Image:C:\\Users\\DELL\\TensorFlow object detection\\TFODCourse\\Tensorflow\\workspace\\images\\collectedimages\\gun\\gun.vy00xje7.jpg -> Annotation:C:/Users/DELL/TensorFlow object detection/TFODCourse/Tensorflow/workspace/images/collectedimages/gun\\gun.vy00xje7.xml\n",
      "Image:C:\\Users\\DELL\\TensorFlow object detection\\TFODCourse\\Tensorflow\\workspace\\images\\collectedimages\\gun\\gun.vzbqb5px.jpg -> Annotation:C:/Users/DELL/TensorFlow object detection/TFODCourse/Tensorflow/workspace/images/collectedimages/gun\\gun.vzbqb5px.xml\n",
      "Image:C:\\Users\\DELL\\TensorFlow object detection\\TFODCourse\\Tensorflow\\workspace\\images\\collectedimages\\gun\\gun.w3s3glq8.jpg -> Annotation:C:/Users/DELL/TensorFlow object detection/TFODCourse/Tensorflow/workspace/images/collectedimages/gun\\gun.w3s3glq8.xml\n",
      "Image:C:\\Users\\DELL\\TensorFlow object detection\\TFODCourse\\Tensorflow\\workspace\\images\\collectedimages\\gun\\gun.w8hf7ec7.jpg -> Annotation:C:/Users/DELL/TensorFlow object detection/TFODCourse/Tensorflow/workspace/images/collectedimages/gun\\gun.w8hf7ec7.xml\n",
      "Image:C:\\Users\\DELL\\TensorFlow object detection\\TFODCourse\\Tensorflow\\workspace\\images\\collectedimages\\gun\\gun.wo2gy7nb.jpg -> Annotation:C:/Users/DELL/TensorFlow object detection/TFODCourse/Tensorflow/workspace/images/collectedimages/gun\\gun.wo2gy7nb.xml\n",
      "Image:C:\\Users\\DELL\\TensorFlow object detection\\TFODCourse\\Tensorflow\\workspace\\images\\collectedimages\\gun\\gun.xgs3u69t.jpg -> Annotation:C:/Users/DELL/TensorFlow object detection/TFODCourse/Tensorflow/workspace/images/collectedimages/gun\\gun.xgs3u69t.xml\n",
      "Image:C:\\Users\\DELL\\TensorFlow object detection\\TFODCourse\\Tensorflow\\workspace\\images\\collectedimages\\gun\\gun.yc2xj5pm.jpg -> Annotation:C:/Users/DELL/TensorFlow object detection/TFODCourse/Tensorflow/workspace/images/collectedimages/gun\\gun.yc2xj5pm.xml\n",
      "Image:C:\\Users\\DELL\\TensorFlow object detection\\TFODCourse\\Tensorflow\\workspace\\images\\collectedimages\\gun\\gun.yeb9f0s3.jpg -> Annotation:C:/Users/DELL/TensorFlow object detection/TFODCourse/Tensorflow/workspace/images/collectedimages/gun\\gun.yeb9f0s3.xml\n",
      "Image:C:\\Users\\DELL\\TensorFlow object detection\\TFODCourse\\Tensorflow\\workspace\\images\\collectedimages\\gun\\gun.ypsno81h.jpg -> Annotation:C:/Users/DELL/TensorFlow object detection/TFODCourse/Tensorflow/workspace/images/collectedimages/gun\\gun.ypsno81h.xml\n",
      "Image:C:\\Users\\DELL\\TensorFlow object detection\\TFODCourse\\Tensorflow\\workspace\\images\\collectedimages\\gun\\gun.z06nl8yh.jpg -> Annotation:C:/Users/DELL/TensorFlow object detection/TFODCourse/Tensorflow/workspace/images/collectedimages/gun\\gun.z06nl8yh.xml\n"
     ]
    }
   ],
   "source": [
    "#ouvrir le logiciel de labelisation\n",
    "!cd {LABELIMG_PATH} && python labelImg.py"
   ]
  },
  {
   "cell_type": "markdown",
   "metadata": {
    "tags": []
   },
   "source": [
    "# 6. Deplacer les images dans train et test"
   ]
  },
  {
   "cell_type": "code",
   "execution_count": 10,
   "metadata": {},
   "outputs": [],
   "source": [
    "#ceci est fait a la main, on choisit une portion d'images avec leurs labels qu'on mettera dans le fichier train et une autre portion dans le fichier test"
   ]
  },
  {
   "cell_type": "markdown",
   "metadata": {
    "tags": []
   },
   "source": [
    "# 7. Compresser les images et leurs labels dans un fichier rar pour l'utiliser dans Google Colab"
   ]
  },
  {
   "cell_type": "code",
   "execution_count": 23,
   "metadata": {},
   "outputs": [],
   "source": [
    "TRAIN_PATH = os.path.join('Tensorflow', 'workspace', 'images', 'train')\n",
    "TEST_PATH = os.path.join('Tensorflow', 'workspace', 'images', 'test')\n",
    "ARCHIVE_PATH = os.path.join('Tensorflow', 'workspace', 'images', 'archive.tar.gz')"
   ]
  },
  {
   "cell_type": "code",
   "execution_count": 24,
   "metadata": {},
   "outputs": [],
   "source": [
    "!tar -czf {ARCHIVE_PATH} {TRAIN_PATH} {TEST_PATH}"
   ]
  },
  {
   "cell_type": "code",
   "execution_count": null,
   "metadata": {},
   "outputs": [],
   "source": []
  }
 ],
 "metadata": {
  "kernelspec": {
   "display_name": "tfod123",
   "language": "python",
   "name": "tfod123"
  },
  "language_info": {
   "codemirror_mode": {
    "name": "ipython",
    "version": 3
   },
   "file_extension": ".py",
   "mimetype": "text/x-python",
   "name": "python",
   "nbconvert_exporter": "python",
   "pygments_lexer": "ipython3",
   "version": "3.10.9"
  }
 },
 "nbformat": 4,
 "nbformat_minor": 4
}
